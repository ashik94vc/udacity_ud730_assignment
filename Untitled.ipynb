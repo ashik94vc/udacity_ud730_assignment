{
 "cells": [
  {
   "cell_type": "code",
   "execution_count": 2,
   "metadata": {
    "collapsed": true
   },
   "outputs": [],
   "source": [
    "# These are all the modules we'll be using later. Make sure you can import them\n",
    "# before proceeding further.\n",
    "from __future__ import print_function\n",
    "import numpy as np\n",
    "import tensorflow as tf\n",
    "from six.moves import cPickle as pickle"
   ]
  },
  {
   "cell_type": "code",
   "execution_count": 10,
   "metadata": {
    "collapsed": false
   },
   "outputs": [
    {
     "name": "stdout",
     "output_type": "stream",
     "text": [
      "[[ 0.0410756  -0.0223597   0.08496951]\n",
      " [ 0.04560192 -0.18236127 -0.04749373]]\n",
      "0.000117494\n",
      "-0.0134279\n"
     ]
    }
   ],
   "source": [
    "import tensorflow as tf\n",
    "\n",
    "#define a variable to hold normal random values \n",
    "weights = tf.Variable( tf.truncated_normal([2,3],stddev = 0.1))\n",
    "penal = tf.contrib.layers.apply_regularization(regularizer=tf.contrib.layers.l2_regularizer(0.005),weights_list=[weights]) \n",
    "#initialize the variable\n",
    "loss = tf.reduce_mean(weights)\n",
    "init_op = tf.initialize_all_variables()\n",
    "\n",
    "#run the graph\n",
    "with tf.Session() as sess:\n",
    "    sess.run(init_op) #execute init_op\n",
    "    #print the random values that we sample\n",
    "    print (sess.run(weights))\n",
    "    print (sess.run(penal))\n",
    "    print(sess.run(loss))"
   ]
  }
 ],
 "metadata": {
  "kernelspec": {
   "display_name": "Python 2",
   "language": "python",
   "name": "python2"
  },
  "language_info": {
   "codemirror_mode": {
    "name": "ipython",
    "version": 2
   },
   "file_extension": ".py",
   "mimetype": "text/x-python",
   "name": "python",
   "nbconvert_exporter": "python",
   "pygments_lexer": "ipython2",
   "version": "2.7.12"
  }
 },
 "nbformat": 4,
 "nbformat_minor": 1
}
